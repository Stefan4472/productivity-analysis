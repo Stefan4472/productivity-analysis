{
 "cells": [
  {
   "cell_type": "code",
   "execution_count": null,
   "id": "678086d5-aca4-44d4-90fc-ee604ef844f6",
   "metadata": {},
   "outputs": [],
   "source": [
    "# Copyright 2023 Google LLC\n",
    "#\n",
    "# Licensed under the Apache License, Version 2.0 (the \"License\");\n",
    "# you may not use this file except in compliance with the License.\n",
    "# You may obtain a copy of the License at\n",
    "#\n",
    "#     https://www.apache.org/licenses/LICENSE-2.0\n",
    "#\n",
    "# Unless required by applicable law or agreed to in writing, software\n",
    "# distributed under the License is distributed on an \"AS IS\" BASIS,\n",
    "# WITHOUT WARRANTIES OR CONDITIONS OF ANY KIND, either express or implied.\n",
    "# See the License for the specific language governing permissions and\n",
    "# limitations under the License.\n",
    "import pandas as pd\n",
    "from matplotlib import pyplot as plt\n",
    "from datetime import date"
   ]
  },
  {
   "cell_type": "code",
   "execution_count": null,
   "id": "1600846c-10a5-4607-958d-11d85fcbb256",
   "metadata": {},
   "outputs": [],
   "source": [
    "# Load our CSV file into a dataframe.\n",
    "time_entries = pd.read_csv(\n",
    "    \"toggl.csv\", \n",
    "    parse_dates=[\"Start date\", \"End date\"],\n",
    "    date_format=\"%Y-%m-%d\",\n",
    ")\n",
    "print(f'Data has {time_entries.shape[0]} rows and {time_entries.shape[1]} columns')\n",
    "time_entries.head()"
   ]
  },
  {
   "cell_type": "code",
   "execution_count": null,
   "id": "add73cdc-00a2-4525-a539-95fce0132061",
   "metadata": {},
   "outputs": [],
   "source": [
    "# Drop unneeded columns.\n",
    "time_entries = time_entries.drop(['User', 'Email', 'Client', 'Task', 'Billable', 'Tags', 'Amount ()'], axis=1)\n",
    "\n",
    "# Toggl provides the data with dates and times separated. We need to merge them back together.\n",
    "# First, we convert the \"Start time\" column to `pandas.dt.time`. Then we use `pd.Timestamp.combine()`\n",
    "# to combine the date and time columns into a new column. Finally, we remove the original columns.\n",
    "time_entries['Start time'] = pd.to_datetime(time_entries['Start time'], format=\"%H:%M:%S\").dt.time\n",
    "time_entries['Start'] = time_entries.apply(lambda x: pd.Timestamp.combine(x['Start date'], x['Start time']), axis=1)\n",
    "time_entries['End time'] = pd.to_datetime(time_entries['End time'], format=\"%H:%M:%S\").dt.time\n",
    "time_entries['End'] = time_entries.apply(lambda x: pd.Timestamp.combine(x['End date'], x['End time']), axis=1)\n",
    "time_entries = time_entries.drop(['Start date', 'Start time', 'End date', 'End time'], axis=1)\n",
    "\n",
    "# Recalculate the \"Duration\" column so that we get instances of `pandas.Timedelta`.\n",
    "time_entries['Duration'] = time_entries['End'] - time_entries['Start']\n",
    "\n",
    "time_entries.head()"
   ]
  },
  {
   "cell_type": "code",
   "execution_count": null,
   "id": "9ddf1fe7-c5ae-42c9-8034-b30f8403e985",
   "metadata": {},
   "outputs": [],
   "source": [
    "# Filter data by date (`start_date` inclusive, `end_date` exclusive).\n",
    "# TODO: move this up before we perform the processing.\n",
    "start_date = date(2021, 10, 1)\n",
    "end_date = date(2022, 11, 1)\n",
    "time_entries = time_entries[(time_entries['Start'].dt.date >= start_date) & (time_entries['End'].dt.date < end_date)]\n",
    "print(f'Data has {time_entries.shape[0]} rows after filtering.')\n",
    "time_entries.head()"
   ]
  },
  {
   "cell_type": "code",
   "execution_count": null,
   "id": "1395de90-258a-42af-85de-e4bbd396f958",
   "metadata": {},
   "outputs": [],
   "source": [
    "# Calculate the time spent per project.\n",
    "time_spent = time_entries.groupby('Project')['Duration'].sum().dt.total_seconds() / 3600\n",
    "time_spent.sort_values(inplace=True)\n",
    "\n",
    "ax = time_spent.plot.barh()\n",
    "ax.set_title('Time spent by project')\n",
    "ax.set_xlabel('Hours')\n",
    "ax.set_ylabel('')"
   ]
  },
  {
   "cell_type": "code",
   "execution_count": null,
   "id": "02666724-5a2b-4f36-ab4f-065d1d2eab97",
   "metadata": {},
   "outputs": [],
   "source": [
    "# TODO: Markdown table with basic statistical analysis. (And move above the plot)."
   ]
  },
  {
   "cell_type": "code",
   "execution_count": null,
   "id": "11cd095d-8dd8-4740-a441-e13721826feb",
   "metadata": {},
   "outputs": [],
   "source": [
    "# What do we want:\n",
    "# - Time per weekday\n",
    "# - Time per day (weekend)"
   ]
  },
  {
   "cell_type": "code",
   "execution_count": null,
   "id": "8be68e04-2be8-404a-8c96-4049f3f72253",
   "metadata": {},
   "outputs": [],
   "source": [
    "# Bucket per week. https://pandas.pydata.org/docs/reference/api/pandas.Grouper.html\n",
    "per_week = time_entries.groupby(pd.Grouper(key=\"Start\", freq=\"1W\"))['Duration'].sum().dt.total_seconds() / 3600\n",
    "ax = per_week.plot.bar()\n",
    "ax.set_title('Recorded time, per week')\n",
    "ax.set_xlabel('Date')\n",
    "ax.set_ylabel('Hours')\n",
    "# TODO: set ticks per month\n",
    "ax.xaxis.set_major_locator(plt.MaxNLocator(6))"
   ]
  },
  {
   "cell_type": "code",
   "execution_count": null,
   "id": "ef8a5200-dba7-46d3-9862-0d4a03eff20e",
   "metadata": {},
   "outputs": [],
   "source": [
    "per_day = time_entries.groupby(time_entries['Start'].dt.weekday)['Duration'].sum().dt.total_seconds() / 3600\n",
    "ax = per_day.plot.bar()\n",
    "ax.set_title('Recorded time, by day of week')\n",
    "ax.set_xlabel('Day of Week')\n",
    "ax.set_ylabel('Hours recorded')"
   ]
  },
  {
   "cell_type": "code",
   "execution_count": null,
   "id": "4912190d-39a6-4044-a00e-c8d1854ec1bf",
   "metadata": {},
   "outputs": [],
   "source": [
    "# Add a column that assigns a unique year-week string.\n",
    "# time_entries['week'] = time_entries.apply(lambda x: str(x['Start'].year) + '-' + str(x['Start'].week), axis=1)\n",
    "time_entries['week_start'] = time_entries['Start'].dt.to_period('W').apply(lambda r: r.start_time)\n",
    "# Faster: df['week_start'] = df['myday'] - pd.to_timedelta(df['myday'].dt.weekday, unit='D'). \n",
    "per_week = time_entries.groupby(['Project', 'week_start'])['Duration'].sum().dt.total_seconds() / 3600\n",
    "\n",
    "\n",
    "import matplotlib.pyplot as plt\n",
    "fig, ax = plt.subplots()\n",
    "# ax.bar(per_week['AI'].index, per_week['AI'].values)\n",
    "# ax.bar(per_week['Sport'].index, per_week['Sport'].values)\n",
    "\n",
    "# TODO: we are missing a few days here. start_date should be aligned to a Monday\n",
    "\n",
    "# Create dates aligned on Monday.\n",
    "dates = pd.date_range(start_date, end_date, freq='W-MON')\n",
    "running_sum = [0 for _ in dates]\n",
    "\n",
    "projects = set(index[0] for index in per_week.index.values)\n",
    "\n",
    "for project in projects:\n",
    "    values = [0] * len(dates)\n",
    "    for i, d in enumerate(dates):\n",
    "        values[i] = running_sum[i] + per_week[project].get(str(d.date()), 0)\n",
    "    ax.bar(dates, values, bottom=running_sum, label=project)\n",
    "    running_sum = values\n",
    "\n",
    "ax.set_title('Time tracked, per week')\n",
    "ax.legend()"
   ]
  },
  {
   "cell_type": "code",
   "execution_count": null,
   "id": "b9ad1cc5-6502-447c-b2c1-215b73fccddc",
   "metadata": {},
   "outputs": [],
   "source": []
  }
 ],
 "metadata": {
  "kernelspec": {
   "display_name": "Python 3 (ipykernel)",
   "language": "python",
   "name": "python3"
  },
  "language_info": {
   "codemirror_mode": {
    "name": "ipython",
    "version": 3
   },
   "file_extension": ".py",
   "mimetype": "text/x-python",
   "name": "python",
   "nbconvert_exporter": "python",
   "pygments_lexer": "ipython3",
   "version": "3.11.5"
  }
 },
 "nbformat": 4,
 "nbformat_minor": 5
}
