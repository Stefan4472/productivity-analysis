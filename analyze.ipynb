{
 "cells": [
  {
   "cell_type": "code",
   "execution_count": null,
   "id": "66e7a810-f3da-443d-a993-4aef83c7bf20",
   "metadata": {},
   "outputs": [],
   "source": [
    "# Copyright 2023 Google LLC\n",
    "#\n",
    "# Licensed under the Apache License, Version 2.0 (the \"License\");\n",
    "# you may not use this file except in compliance with the License.\n",
    "# You may obtain a copy of the License at\n",
    "#\n",
    "#     https://www.apache.org/licenses/LICENSE-2.0\n",
    "#\n",
    "# Unless required by applicable law or agreed to in writing, software\n",
    "# distributed under the License is distributed on an \"AS IS\" BASIS,\n",
    "# WITHOUT WARRANTIES OR CONDITIONS OF ANY KIND, either express or implied.\n",
    "# See the License for the specific language governing permissions and\n",
    "# limitations under the License.\n",
    "import api\n",
    "import matplotlib.pyplot as plt\n",
    "from datetime import date\n",
    "\n",
    "# Enter your Toggl email and password here.\n",
    "TOGGL_EMAIL = r''\n",
    "TOGGL_PASSWORD = r''\n",
    "\n",
    "_api = api.TogglApi(TOGGL_EMAIL, TOGGL_PASSWORD)"
   ]
  },
  {
   "cell_type": "code",
   "execution_count": null,
   "id": "bfdec699-b947-4763-9e9a-667195f4a256",
   "metadata": {},
   "outputs": [],
   "source": [
    "# Call the `me` endpoint and get the default workspace ID.\n",
    "my_data = _api.get_my_data()\n",
    "WORKSPACE_ID = my_data['default_workspace_id']"
   ]
  },
  {
   "cell_type": "code",
   "execution_count": null,
   "id": "b83364c9-efac-40c4-b7da-8e826fc6129c",
   "metadata": {},
   "outputs": [],
   "source": [
    "# Load project data.\n",
    "projects = _api.get_project_data(WORKSPACE_ID)"
   ]
  },
  {
   "cell_type": "code",
   "execution_count": null,
   "id": "2f3a0dac-d9ab-49be-b901-41a34bc9b7d6",
   "metadata": {},
   "outputs": [],
   "source": [
    "# Calculate the sum of hours tracked.\n",
    "print(f\"You tracked a total of {sum(p.actual_hours for p in projects)} hours.\")\n",
    "\n",
    "# Sort projects by time spent.\n",
    "projects.sort(key=lambda p: p.actual_hours, reverse=True)\n",
    "print('\\n'.join(f\"{p.name}: {p.actual_hours} hours\" for p in projects))\n",
    "\n",
    "# Create a mapping of project ID to name, which we'll need later.\n",
    "# TODO: Better name\n",
    "project_names = {p.id: p.name for p in projects}"
   ]
  },
  {
   "cell_type": "code",
   "execution_count": null,
   "id": "3f9ba339-c7a2-45ba-9225-0c12fc09a611",
   "metadata": {},
   "outputs": [],
   "source": [
    "# Make a simple bar plot of projects by time spent.\n",
    "# Note: adding a semicolon \";\" at the end of the plot statement hides the annoying text that the notebook would normally print.\n",
    "fig, ax = plt.subplots()\n",
    "fig.suptitle('Time Spent (Bar)')\n",
    "ax.barh(\n",
    "    [p.name for p in projects],\n",
    "    [p.actual_hours for p in projects],\n",
    ");"
   ]
  },
  {
   "cell_type": "code",
   "execution_count": null,
   "id": "1ac336b2-449d-47bf-8e63-cdaaad3be907",
   "metadata": {},
   "outputs": [],
   "source": [
    "# Make a pie plot of the top 10 projects.\n",
    "n = min(10, len(projects))\n",
    "\n",
    "fig, ax = plt.subplots()\n",
    "fig.suptitle(f\"Time Spent, Top {n}\")\n",
    "ax.pie(\n",
    "    [p.actual_hours for p in projects[:n]],\n",
    "    labels=[p.name for p in projects[:n]],\n",
    "    autopct=\"%1.1f%%\",\n",
    ");"
   ]
  },
  {
   "cell_type": "code",
   "execution_count": null,
   "id": "3885ae0b-7941-435f-b6bc-2186189870e2",
   "metadata": {},
   "outputs": [],
   "source": [
    "# Load all tracked time entries from `START_DATE` until `END_DATE`, inclusive.\n",
    "START_DATE = date(2023, 9, 1)\n",
    "END_DATE = date(2023, 10, 1)\n",
    "time_entries = _api.get_time_entries(START_DATE, END_DATE)\n",
    "\n",
    "print(f\"Loaded {len(time_entries)} time entries.\")\n",
    "\n",
    "# Generate a Markdown table with some basic statistics.\n",
    "table = \"| Project | Num Entires | Time Spent | Avg. Time |\\n\"\n",
    "table += \"| --- | --- | --- |\\n\"\n",
    "import statistics\n",
    "for project_id, pname in project_names.items():\n",
    "    project_entries = list(filter(lambda t: (t.project_id == project_id), time_entries))\n",
    "    table += f\"| {pname} | {len(project_entries)} | {sum(t.duration for t in project_entries)} | {statistics.mean(t.duration for t in project_entries)} |\\n\"\n",
    "\n",
    "from IPython.display import display, Markdown, Latex\n",
    "display(Markdown(table))\n"
   ]
  },
  {
   "cell_type": "code",
   "execution_count": null,
   "id": "4ab39019-c7f0-4992-bde8-6c08e42c3350",
   "metadata": {},
   "outputs": [],
   "source": [
    "print(project_names)"
   ]
  },
  {
   "cell_type": "code",
   "execution_count": null,
   "id": "742d3c3c-466a-44e8-9020-470fb82dbba1",
   "metadata": {},
   "outputs": [],
   "source": []
  }
 ],
 "metadata": {
  "kernelspec": {
   "display_name": "Python 3 (ipykernel)",
   "language": "python",
   "name": "python3"
  },
  "language_info": {
   "codemirror_mode": {
    "name": "ipython",
    "version": 3
   },
   "file_extension": ".py",
   "mimetype": "text/x-python",
   "name": "python",
   "nbconvert_exporter": "python",
   "pygments_lexer": "ipython3",
   "version": "3.11.5"
  }
 },
 "nbformat": 4,
 "nbformat_minor": 5
}
